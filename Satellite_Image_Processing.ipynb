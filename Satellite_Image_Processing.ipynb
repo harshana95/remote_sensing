{
 "nbformat": 4,
 "nbformat_minor": 0,
 "metadata": {
  "colab": {
   "name": "Satellite Image Processing.ipynb",
   "provenance": [],
   "authorship_tag": "ABX9TyMny9SQTPYp58roltKJQXj4",
   "include_colab_link": true
  },
  "kernelspec": {
   "name": "python3",
   "language": "python",
   "display_name": "Python 3"
  },
  "language_info": {
   "name": "python"
  }
 },
 "cells": [
  {
   "cell_type": "markdown",
   "metadata": {
    "id": "view-in-github",
    "colab_type": "text"
   },
   "source": [
    "<a href=\"https://colab.research.google.com/github/rumalip95/hsi_map/blob/main/Satellite_Image_Processing.ipynb\" target=\"_parent\"><img src=\"https://colab.research.google.com/assets/colab-badge.svg\" alt=\"Open In Colab\"/></a>"
   ]
  },
  {
   "cell_type": "code",
   "metadata": {
    "id": "MxeI3WjEF1iM"
   },
   "source": [
    "import pandas as pd\n",
    "from google.colab import drive\n",
    "drive.mount('/content/gdrive')"
   ],
   "execution_count": 1,
   "outputs": [
    {
     "ename": "ModuleNotFoundError",
     "evalue": "No module named 'google'",
     "output_type": "error",
     "traceback": [
      "\u001B[1;31m---------------------------------------------------------------------------\u001B[0m",
      "\u001B[1;31mModuleNotFoundError\u001B[0m                       Traceback (most recent call last)",
      "\u001B[1;32m<ipython-input-1-35ddbcb37c76>\u001B[0m in \u001B[0;36m<module>\u001B[1;34m\u001B[0m\n\u001B[0;32m      1\u001B[0m \u001B[1;32mimport\u001B[0m \u001B[0mpandas\u001B[0m \u001B[1;32mas\u001B[0m \u001B[0mpd\u001B[0m\u001B[1;33m\u001B[0m\u001B[1;33m\u001B[0m\u001B[0m\n\u001B[1;32m----> 2\u001B[1;33m \u001B[1;32mfrom\u001B[0m \u001B[0mgoogle\u001B[0m\u001B[1;33m.\u001B[0m\u001B[0mcolab\u001B[0m \u001B[1;32mimport\u001B[0m \u001B[0mdrive\u001B[0m\u001B[1;33m\u001B[0m\u001B[1;33m\u001B[0m\u001B[0m\n\u001B[0m\u001B[0;32m      3\u001B[0m \u001B[0mdrive\u001B[0m\u001B[1;33m.\u001B[0m\u001B[0mmount\u001B[0m\u001B[1;33m(\u001B[0m\u001B[1;34m'/content/gdrive'\u001B[0m\u001B[1;33m)\u001B[0m\u001B[1;33m\u001B[0m\u001B[1;33m\u001B[0m\u001B[0m\n\u001B[0;32m      4\u001B[0m \u001B[1;33m\u001B[0m\u001B[0m\n",
      "\u001B[1;31mModuleNotFoundError\u001B[0m: No module named 'google'"
     ]
    }
   ]
  },
  {
   "cell_type": "code",
   "metadata": {
    "id": "b7MwU5G_GAGY"
   },
   "source": [
    "%cd '/content/gdrive/My Drive/Colab'"
   ],
   "execution_count": null,
   "outputs": []
  },
  {
   "cell_type": "code",
   "metadata": {
    "id": "zGkZGpgwabX_"
   },
   "source": [
    "import scipy\n",
    "import sklearn\n",
    "from sklearn.feature_extraction import image\n",
    "from scipy.io import loadmat\n",
    "import matplotlib.pyplot as plt\n",
    "import matplotlib.image as mpimg\n",
    "images = loadmat('imageKandy.mat',variable_names='IMAGES',appendmat=True).get('IMAGES')\n",
    "\n",
    "imgplot = plt.imshow(images[:,:,0])\n",
    "\n",
    "plt.show()"
   ],
   "execution_count": null,
   "outputs": []
  },
  {
   "cell_type": "code",
   "metadata": {
    "id": "K4JJwV7xbREw"
   },
   "source": [
    ""
   ],
   "execution_count": null,
   "outputs": []
  },
  {
   "cell_type": "code",
   "metadata": {
    "id": "igv5rhq7GALO"
   },
   "source": [
    "#DO THIS ONLY ONCE(THIS HAS ALREADY BEEN DONE)\n",
    "from google.colab import files\n",
    "uploaded=files.upload()"
   ],
   "execution_count": null,
   "outputs": []
  },
  {
   "cell_type": "code",
   "metadata": {
    "id": "xd2JDwRuGAPM"
   },
   "source": [
    "from scipy.io import loadmat\n",
    "annots = loadmat('imageKandy.mat')\n",
    "print(annots)"
   ],
   "execution_count": null,
   "outputs": []
  },
  {
   "cell_type": "code",
   "metadata": {
    "id": "VysjkAM_GATV"
   },
   "source": [
    "import os\n",
    "from scipy.io import loadmat\n",
    "import numpy as np\n",
    "import math\n",
    "import matplotlib.pyplot as plt\n",
    "\n",
    "\n",
    "def load_matlab_struct(folder='/content/gdrive/My Drive/Colab', file='imageKandy', view=False):\n",
    "    if '.mat' in file:\n",
    "        file = file.replace('.mat', '')\n",
    "\n",
    "    dc = loadmat(folder + '/' + file, struct_as_record=True)\n",
    "    struct = dc[file][0, 0]\n",
    "    field_names = struct.dtype.names\n",
    "\n",
    "    struct_dc = dict()\n",
    "\n",
    "    for field in field_names:\n",
    "        struct_dc[field] = struct[field]\n",
    "\n",
    "    if view:\n",
    "        cols = 4\n",
    "        rows = math.ceil(len(field_names) / cols)\n",
    "        plt.figure(figsize=(3*cols, 3*rows))\n",
    "        for i in range(len(field_names)):\n",
    "            field = field_names[i]\n",
    "            plt.subplot(rows, cols, i+1)\n",
    "            plt.imshow(struct_dc[field])\n",
    "            plt.title(field)\n",
    "        plt.suptitle(file)\n",
    "        plt.show()\n",
    "\n",
    "\n",
    "\n",
    "    return struct_dc\n"
   ],
   "execution_count": null,
   "outputs": []
  },
  {
   "cell_type": "code",
   "metadata": {
    "id": "Gx8ijr1FGAX0"
   },
   "source": [
    "import numpy as np\n",
    "\n",
    "#from loading_functions import load_matlab_struct\n",
    "\n",
    "folder = '/content/gdrive/My Drive/Colab'\n",
    "# files = ['imageKandy', 'refImage']\n",
    "files = ['imageKandy']\n",
    "\n",
    "\n",
    "def main():\n",
    "    dc = dict()\n",
    "    for file in files:\n",
    "        dc[file] = load_matlab_struct(folder, file, view=True)\n",
    "\n",
    "\n",
    "if __name__ == \"__main__\":\n",
    "    main()"
   ],
   "execution_count": null,
   "outputs": []
  },
  {
   "cell_type": "code",
   "metadata": {
    "colab": {
     "background_save": true
    },
    "id": "74k17Eiovbrj"
   },
   "source": [
    "def load_matlab_struct(folder='/content/gdrive/My Drive/Colab', file='imageKandy', view=False):\n",
    "    if '.mat' in file:\n",
    "        file = file.replace('.mat', '')\n",
    "\n",
    "    dc = loadmat(folder + '/' + file, struct_as_record=True)\n",
    "    struct = dc[file][0, 0]\n",
    "    field_names = struct.dtype.names\n",
    "\n",
    "    struct_dc = dict()\n",
    "\n",
    "    for field in field_names:\n",
    "        struct_dc[field] = struct[field]\n",
    "\n",
    "    if view:\n",
    "        cols = 1\n",
    "        rows = 1\n",
    "        plt.figure(figsize=(30, 30))\n",
    "        for i in range(len(field_names)):\n",
    "            field = field_names[4]\n",
    "            plt.subplot(rows, cols, 0+1)\n",
    "            plt.imshow(struct_dc[field])\n",
    "            plt.title(field)\n",
    "        plt.suptitle(file)\n",
    "        plt.show()\n",
    "\n",
    "\n",
    "\n",
    "folder = '/content/gdrive/My Drive/Colab'\n",
    "# files = ['imageKandy', 'refImage']\n",
    "files = ['imageKandy']\n",
    "\n",
    "\n",
    "def main():\n",
    "    dc = dict()\n",
    "    for file in files:\n",
    "        dc[file] = load_matlab_struct(folder, file, view=True)\n",
    "\n",
    "\n",
    "if __name__ == \"__main__\":\n",
    "    main()\n",
    "\n",
    "    main().savefig('F:/Research/Efac/Vision/SavedImages/red.png')"
   ],
   "execution_count": null,
   "outputs": []
  },
  {
   "cell_type": "code",
   "metadata": {
    "id": "tseqZ8atx1sK"
   },
   "source": [
    "def load_matlab_struct(folder='/content/gdrive/My Drive/Colab', file='imageKandy', view=False):\n",
    "    if '.mat' in file:\n",
    "        file = file.replace('.mat', '')\n",
    "\n",
    "    dc = loadmat(folder + '/' + file, struct_as_record=True)\n",
    "    struct = dc[file][0, 0]\n",
    "    field_names = struct.dtype.names\n",
    "\n",
    "    struct_dc = dict()\n",
    "\n",
    "    for field in field_names:\n",
    "        struct_dc[field] = struct[field]\n",
    "\n",
    "    if view:\n",
    "        cols = 1\n",
    "        rows = 1\n",
    "        plt.figure(figsize=(30, 30))\n",
    "        for i in range(len(field_names)):\n",
    "            field = field_names[4]\n",
    "            plt.subplot(rows, cols, 0+1)\n",
    "            plt.imshow(struct_dc[field],cmap=plt.get_cmap('gray'))\n",
    "            plt.title(field)\n",
    "            plt.savefig('red2')\n",
    "            \n",
    "        plt.suptitle(file)\n",
    "        plt.show()\n",
    "        \n",
    "\n",
    "folder = '/content/gdrive/My Drive/Colab'\n",
    "# files = ['imageKandy', 'refImage']\n",
    "files = ['imageKandy']\n",
    "\n",
    "\n",
    "def main():\n",
    "    dc = dict()\n",
    "    for file in files:\n",
    "        dc[file] = load_matlab_struct(folder, file, view=True)\n",
    "\n",
    "\n",
    "if __name__ == \"__main__\":\n",
    "    main()\n",
    "\n",
    "    #main().savefig('F:/Research/Efac/Vision/SavedImages/red.png')"
   ],
   "execution_count": null,
   "outputs": []
  },
  {
   "cell_type": "code",
   "metadata": {
    "id": "wrhDmx-Cx1vj"
   },
   "source": [
    "import cv2 \n",
    "from google.colab.patches import cv2_imshow\n",
    "red1 = cv2.imread(\"/content/gdrive/My Drive/Colab/red3.png\")\n",
    "cv2_imshow(red1)"
   ],
   "execution_count": null,
   "outputs": []
  },
  {
   "cell_type": "code",
   "metadata": {
    "id": "kcGAuQrFx1yy"
   },
   "source": [
    "edges= cv2.Canny(red1, 50,200)\n",
    "\n",
    "contours, hierarchy= cv2.findContours(edges.copy(), cv2.RETR_EXTERNAL, cv2.CHAIN_APPROX_NONE)\n",
    "\n",
    "number_of_objects_in_image= len(contours)\n",
    "\n",
    "print (\"The number of objects in this image: \", str(number_of_objects_in_image))"
   ],
   "execution_count": null,
   "outputs": []
  },
  {
   "cell_type": "code",
   "metadata": {
    "id": "prXqhy7Fx11t"
   },
   "source": [
    "\n",
    "edged = cv2.Canny(red1, 30, 200)\n",
    "cv2.waitKey(0)\n",
    "  \n",
    "\n",
    "contours, hierarchy = cv2.findContours(edged, \n",
    "    cv2.RETR_EXTERNAL, cv2.CHAIN_APPROX_NONE)\n",
    "  \n",
    "cv2_imshow(edged)\n",
    "cv2.waitKey(0)\n",
    "  \n",
    "print(\"Number of Contours found = \" + str(len(contours)))\n"
   ],
   "execution_count": null,
   "outputs": []
  },
  {
   "cell_type": "code",
   "metadata": {
    "id": "06v79sp-9r1o"
   },
   "source": [
    "\n",
    "ret,thresh=cv2.threshold(red1,35,255,cv2.THRESH_BINARY)\n",
    "cv2_imshow(thresh)"
   ],
   "execution_count": null,
   "outputs": []
  },
  {
   "cell_type": "code",
   "metadata": {
    "id": "rHuA6N-xx14j"
   },
   "source": [
    ""
   ],
   "execution_count": null,
   "outputs": []
  },
  {
   "cell_type": "code",
   "metadata": {
    "id": "TROn5qyJx17o"
   },
   "source": [
    ""
   ],
   "execution_count": null,
   "outputs": []
  },
  {
   "cell_type": "code",
   "metadata": {
    "id": "FReaDM-ox1-h"
   },
   "source": [
    ""
   ],
   "execution_count": null,
   "outputs": []
  },
  {
   "cell_type": "code",
   "metadata": {
    "id": "xEg9cUDEx2Bb"
   },
   "source": [
    ""
   ],
   "execution_count": null,
   "outputs": []
  },
  {
   "cell_type": "code",
   "metadata": {
    "id": "rv9R0nHdx2Ee"
   },
   "source": [
    ""
   ],
   "execution_count": null,
   "outputs": []
  }
 ]
}